{
 "cells": [
  {
   "attachments": {},
   "cell_type": "markdown",
   "metadata": {},
   "source": [
    "# TF-IDF"
   ]
  },
  {
   "cell_type": "code",
   "execution_count": 1,
   "metadata": {},
   "outputs": [],
   "source": [
    "import pandas as pd\n",
    "import numpy as np\n",
    "\n",
    "df = pd.read_csv('..\\Data\\movies_features.csv')"
   ]
  },
  {
   "cell_type": "code",
   "execution_count": 2,
   "metadata": {},
   "outputs": [
    {
     "data": {
      "text/html": [
       "<div>\n",
       "<style scoped>\n",
       "    .dataframe tbody tr th:only-of-type {\n",
       "        vertical-align: middle;\n",
       "    }\n",
       "\n",
       "    .dataframe tbody tr th {\n",
       "        vertical-align: top;\n",
       "    }\n",
       "\n",
       "    .dataframe thead th {\n",
       "        text-align: right;\n",
       "    }\n",
       "</style>\n",
       "<table border=\"1\" class=\"dataframe\">\n",
       "  <thead>\n",
       "    <tr style=\"text-align: right;\">\n",
       "      <th></th>\n",
       "      <th>genres</th>\n",
       "      <th>id</th>\n",
       "      <th>imdb_link</th>\n",
       "      <th>original_title</th>\n",
       "      <th>overview</th>\n",
       "      <th>poster_path</th>\n",
       "      <th>production_companies</th>\n",
       "      <th>release_date</th>\n",
       "      <th>runtime</th>\n",
       "      <th>vote_average</th>\n",
       "      <th>first_title_char</th>\n",
       "    </tr>\n",
       "  </thead>\n",
       "  <tbody>\n",
       "    <tr>\n",
       "      <th>0</th>\n",
       "      <td>Animation, Comedy, Family</td>\n",
       "      <td>862</td>\n",
       "      <td>https://www.imdb.com/title/tt0114709/</td>\n",
       "      <td>Toy Story</td>\n",
       "      <td>Led by Woody, Andy's toys live happily in his ...</td>\n",
       "      <td>https://image.tmdb.org/t/p/w500/rhIRbceoE9lR4v...</td>\n",
       "      <td>Pixar Animation Studios</td>\n",
       "      <td>1995-10-30</td>\n",
       "      <td>81</td>\n",
       "      <td>7.7</td>\n",
       "      <td>T</td>\n",
       "    </tr>\n",
       "  </tbody>\n",
       "</table>\n",
       "</div>"
      ],
      "text/plain": [
       "                      genres   id                              imdb_link  \\\n",
       "0  Animation, Comedy, Family  862  https://www.imdb.com/title/tt0114709/   \n",
       "\n",
       "  original_title                                           overview  \\\n",
       "0      Toy Story  Led by Woody, Andy's toys live happily in his ...   \n",
       "\n",
       "                                         poster_path     production_companies  \\\n",
       "0  https://image.tmdb.org/t/p/w500/rhIRbceoE9lR4v...  Pixar Animation Studios   \n",
       "\n",
       "  release_date  runtime  vote_average first_title_char  \n",
       "0   1995-10-30       81           7.7                T  "
      ]
     },
     "execution_count": 2,
     "metadata": {},
     "output_type": "execute_result"
    }
   ],
   "source": [
    "df.head(1)"
   ]
  },
  {
   "attachments": {},
   "cell_type": "markdown",
   "metadata": {},
   "source": [
    "### preprocess data"
   ]
  },
  {
   "cell_type": "code",
   "execution_count": 3,
   "metadata": {},
   "outputs": [
    {
     "name": "stderr",
     "output_type": "stream",
     "text": [
      "<frozen importlib._bootstrap>:219: RuntimeWarning: scipy._lib.messagestream.MessageStream size changed, may indicate binary incompatibility. Expected 56 from C header, got 64 from PyObject\n",
      "[nltk_data] Downloading package stopwords to\n",
      "[nltk_data]     C:\\Users\\Sacha\\AppData\\Roaming\\nltk_data...\n",
      "[nltk_data]   Package stopwords is already up-to-date!\n",
      "[nltk_data] Downloading package punkt to\n",
      "[nltk_data]     C:\\Users\\Sacha\\AppData\\Roaming\\nltk_data...\n",
      "[nltk_data]   Package punkt is already up-to-date!\n"
     ]
    }
   ],
   "source": [
    "import nltk\n",
    "from nltk.corpus import stopwords\n",
    "from nltk.tokenize import word_tokenize\n",
    "import string\n",
    "\n",
    "# Charger les stopwords\n",
    "nltk.download('stopwords')\n",
    "nltk.download('punkt')\n",
    "\n",
    "# Définir les stopwords et la ponctuation à supprimer\n",
    "stop_words = set(stopwords.words('english'))\n",
    "punctuation = set(string.punctuation)"
   ]
  },
  {
   "cell_type": "code",
   "execution_count": 4,
   "metadata": {},
   "outputs": [],
   "source": [
    "# Fonction pour nettoyer le texte\n",
    "def pre_process_text(text: str)-> str:\n",
    "    \"\"\" \n",
    "    the function will preprocess and return the overview\n",
    "    Lowercase, delete stop words and punctuation\n",
    "    \"\"\"\n",
    "    global stop_words\n",
    "    global punctuation\n",
    "\n",
    "    # Tokenisation des mots\n",
    "    tokens = word_tokenize(text.lower())\n",
    "    # Suppression des stopwords et de la ponctuation\n",
    "    tokens = [w for w in tokens if not w in stop_words and not w in punctuation]\n",
    "    \n",
    "    # Rejoindre les mots restants en un seul texte\n",
    "    cleaned_text = \" \".join(tokens)\n",
    "    return cleaned_text"
   ]
  },
  {
   "attachments": {},
   "cell_type": "markdown",
   "metadata": {},
   "source": [
    "### tfidf matrix"
   ]
  },
  {
   "cell_type": "code",
   "execution_count": 5,
   "metadata": {},
   "outputs": [
    {
     "name": "stdout",
     "output_type": "stream",
     "text": [
      "La taille de la matrice TF-IDF est : (31269, 56791)\n"
     ]
    }
   ],
   "source": [
    "from sklearn.feature_extraction.text import TfidfVectorizer\n",
    "\n",
    "# Charger les données de résumé de film dans une liste and preprocess them\n",
    "summaries = df['overview'].apply(pre_process_text).tolist()\n",
    "\n",
    "# Initialiser un objet TfidfVectorizer\n",
    "tfidf_vectorizer = TfidfVectorizer()\n",
    "\n",
    "# Calculer la matrice TF-IDF pour les résumés de film\n",
    "tfidf_matrix = tfidf_vectorizer.fit_transform(summaries)\n",
    "\n",
    "# Afficher la taille de la matrice TF-IDF\n",
    "print(\"La taille de la matrice TF-IDF est :\", tfidf_matrix.shape)\n"
   ]
  },
  {
   "attachments": {},
   "cell_type": "markdown",
   "metadata": {},
   "source": [
    "### cosine similarity"
   ]
  },
  {
   "cell_type": "code",
   "execution_count": 6,
   "metadata": {},
   "outputs": [
    {
     "name": "stdout",
     "output_type": "stream",
     "text": [
      "La taille de la matrice de similarité cosinus est : (31269, 31269)\n"
     ]
    }
   ],
   "source": [
    "from sklearn.metrics.pairwise import cosine_similarity\n",
    "#30 sec\n",
    "\n",
    "tfidf_matrix = tfidf_matrix.astype('float32')  #takes less time\n",
    "\n",
    "# Calculer la similarité cosinus entre les vecteurs de résumé pour chaque paire de films\n",
    "similarity_matrix = cosine_similarity(tfidf_matrix, tfidf_matrix)\n",
    "\n",
    "# Afficher la taille de la matrice de similarité\n",
    "print(\"La taille de la matrice de similarité cosinus est :\", similarity_matrix.shape)\n"
   ]
  },
  {
   "attachments": {},
   "cell_type": "markdown",
   "metadata": {},
   "source": [
    "### select the similars movies"
   ]
  },
  {
   "cell_type": "code",
   "execution_count": 7,
   "metadata": {},
   "outputs": [],
   "source": [
    "def get_top_5_similar_movies(row:pd.Series) -> pd.Series:\n",
    "    \"\"\" \n",
    "    this function will return the 5 most similar movies than the one in te given row\n",
    "    \"\"\"\n",
    "    # Get the similarity scores for the current movie\n",
    "    similarity_scores = similarity_matrix[row.name]\n",
    "\n",
    "    # Get the indices of the top 5 similar movies -> (6 because the movie of the line row will be included) -> in return select only the 5 last ones\n",
    "    top_5_indices = np.argpartition(-similarity_scores, range(6))[:6]\n",
    "    #get the ids of the movies (ids to be sure it is unique) (duplicates in movie title)\n",
    "    top_5_ids = [df.iloc[i]['id'] for i in top_5_indices]\n",
    "\n",
    "    return pd.Series(top_5_ids[1:], index=['sim_movie_1', 'sim_movie_2', 'sim_movie_3', 'sim_movie_4', 'sim_movie_5'])\n"
   ]
  },
  {
   "cell_type": "code",
   "execution_count": 8,
   "metadata": {},
   "outputs": [],
   "source": [
    "#add the 5 most similar movies in the dataframe (40-50 sec)\n",
    "df[['sim_movie_1', 'sim_movie_2', 'sim_movie_3', 'sim_movie_4', 'sim_movie_5']] = df.apply(get_top_5_similar_movies, axis=1)\n",
    "df.to_csv('..\\Data\\movies_with_recommendation.csv', index=False)"
   ]
  }
 ],
 "metadata": {
  "kernelspec": {
   "display_name": "base",
   "language": "python",
   "name": "python3"
  },
  "language_info": {
   "codemirror_mode": {
    "name": "ipython",
    "version": 3
   },
   "file_extension": ".py",
   "mimetype": "text/x-python",
   "name": "python",
   "nbconvert_exporter": "python",
   "pygments_lexer": "ipython3",
   "version": "3.8.15"
  },
  "orig_nbformat": 4
 },
 "nbformat": 4,
 "nbformat_minor": 2
}
